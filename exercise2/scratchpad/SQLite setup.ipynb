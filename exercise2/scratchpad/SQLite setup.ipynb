{
 "cells": [
  {
   "cell_type": "markdown",
   "metadata": {},
   "source": [
    "## Get all csv headers"
   ]
  },
  {
   "cell_type": "code",
   "execution_count": 11,
   "metadata": {},
   "outputs": [],
   "source": [
    "from numpy import genfromtxt\n",
    "import pandas as pd\n",
    "from os import listdir\n",
    "from os.path import isfile, join\n",
    "\n",
    "mypath = \"../data/csvs_per_year/\"\n",
    "onlyfiles = [f for f in listdir(mypath) if isfile(join(mypath, f))]"
   ]
  },
  {
   "cell_type": "code",
   "execution_count": 5,
   "metadata": {},
   "outputs": [],
   "source": [
    "all_columns = []\n",
    "\n",
    "for filename in onlyfiles[1:]:\n",
    "    with open(join(mypath,filename)) as f:\n",
    "        columns = f.readline().split(',')\n",
    "        all_columns += columns"
   ]
  },
  {
   "cell_type": "code",
   "execution_count": 6,
   "metadata": {},
   "outputs": [
    {
     "data": {
      "text/plain": [
       "['BEN',\n",
       " 'CO',\n",
       " 'EBE',\n",
       " 'MXY',\n",
       " 'NMHC',\n",
       " 'NO',\n",
       " 'NO_2',\n",
       " 'NOx',\n",
       " 'OXY',\n",
       " 'O_3',\n",
       " 'PM10',\n",
       " 'PM25',\n",
       " 'PXY',\n",
       " 'SO_2',\n",
       " 'TCH',\n",
       " 'TOL',\n",
       " 'date',\n",
       " 'station\\n']"
      ]
     },
     "execution_count": 6,
     "metadata": {},
     "output_type": "execute_result"
    }
   ],
   "source": [
    "sorted(set(all_columns))"
   ]
  },
  {
   "cell_type": "markdown",
   "metadata": {},
   "source": [
    "## Import"
   ]
  },
  {
   "cell_type": "code",
   "execution_count": 8,
   "metadata": {},
   "outputs": [],
   "source": [
    "import sqlite3\n",
    "conn = sqlite3.connect('../data/air_pollution-new.db')\n",
    "c = conn.cursor()"
   ]
  },
  {
   "cell_type": "markdown",
   "metadata": {},
   "source": [
    "### Import stations"
   ]
  },
  {
   "cell_type": "code",
   "execution_count": 46,
   "metadata": {},
   "outputs": [],
   "source": [
    "df=pd.read_csv('../data/stations.csv', sep=',')\n",
    "for index, row in df.iterrows():\n",
    "    # Insert a row of data\n",
    "    c.execute(\"INSERT INTO stations (id, name, address, lat, lon, elevation) VALUES (?,?,?,?,?,?)\", (row['id'], row['name'], row['address'], row['lat'], row['lon'], row['elevation']))\n",
    "\n",
    "# Save (commit) the changes\n",
    "conn.commit()\n",
    "\n",
    "# c.execute('SELECT * FROM stations')\n",
    "# print(c.fetchall())\n",
    "\n",
    "# # We can also close the connection if we are done with it.\n",
    "# # Just be sure any changes have been committed or they will be lost.\n",
    "# # conn.close()"
   ]
  },
  {
   "cell_type": "markdown",
   "metadata": {},
   "source": [
    "## Import measurements"
   ]
  },
  {
   "cell_type": "code",
   "execution_count": 9,
   "metadata": {},
   "outputs": [],
   "source": [
    "def add_all_columns(df):\n",
    "    for column in all_columns:\n",
    "        if column not in df:\n",
    "            df[column] = None"
   ]
  },
  {
   "cell_type": "code",
   "execution_count": 15,
   "metadata": {},
   "outputs": [
    {
     "name": "stdout",
     "output_type": "stream",
     "text": [
      "Reading madrid_2018.csv\n",
      "Inserting madrid_2018.csv\n"
     ]
    }
   ],
   "source": [
    "for filename in onlyfiles:\n",
    "    print(\"Reading \" + filename)\n",
    "    df = pd.read_csv(join(mypath,filename), sep=',')\n",
    "    add_all_columns(df)\n",
    "    print(\"Inserting \" + filename)\n",
    "    for index, row in df.iterrows():\n",
    "        c.execute('''\n",
    "        INSERT INTO\n",
    "            measurements\n",
    "            (station_id, date, BEN, CO, EBE, MXY, NMHC, NO, NO_2, NOx, OXY, O_3, PM10, PM25, PXY, SO_2, TCH, TOL)\n",
    "        VALUES\n",
    "            (?,?,?,?,?,?,?,?,?,?,?,?,?,?,?,?,?,?)\n",
    "        ''',\n",
    "            (\n",
    "                row['station'],\n",
    "                row['date'],\n",
    "                row['BEN'],\n",
    "                row['CO'],\n",
    "                row['EBE'],\n",
    "                row['MXY'],\n",
    "                row['NMHC'],\n",
    "                row['NO'],\n",
    "                row['NO_2'],\n",
    "                row['NOx'],\n",
    "                row['OXY'],\n",
    "                row['O_3'],\n",
    "                row['PM10'],\n",
    "                row['PM25'],\n",
    "                row['PXY'],\n",
    "                row['SO_2'],\n",
    "                row['TCH'],\n",
    "                row['TOL']\n",
    "            ))\n",
    "    conn.commit()"
   ]
  },
  {
   "cell_type": "code",
   "execution_count": null,
   "metadata": {},
   "outputs": [],
   "source": []
  }
 ],
 "metadata": {
  "kernelspec": {
   "display_name": "Python 3",
   "language": "python",
   "name": "python3"
  },
  "language_info": {
   "codemirror_mode": {
    "name": "ipython",
    "version": 3
   },
   "file_extension": ".py",
   "mimetype": "text/x-python",
   "name": "python",
   "nbconvert_exporter": "python",
   "pygments_lexer": "ipython3",
   "version": "3.7.0"
  }
 },
 "nbformat": 4,
 "nbformat_minor": 2
}
